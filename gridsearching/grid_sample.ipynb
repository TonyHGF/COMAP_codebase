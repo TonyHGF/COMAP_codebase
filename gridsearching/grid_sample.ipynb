{
 "cells": [
  {
   "cell_type": "code",
   "execution_count": 3,
   "metadata": {},
   "outputs": [],
   "source": [
    "from xgboost import XGBClassifier\n",
    "import pandas as pd\n",
    "import numpy as np\n",
    "import sklearn\n",
    "import matplotlib.pyplot as plt\n",
    "from sklearn.model_selection import StratifiedKFold\n",
    "from sklearn.model_selection import GridSearchCV\n",
    "from sklearn.model_selection import train_test_split"
   ]
  },
  {
   "cell_type": "code",
   "execution_count": 1,
   "metadata": {},
   "outputs": [],
   "source": [
    "from sklearn import datasets\n",
    "iris=datasets.load_iris()"
   ]
  },
  {
   "cell_type": "code",
   "execution_count": 6,
   "metadata": {},
   "outputs": [],
   "source": [
    "X = iris.data\n",
    "y = iris.target\n",
    "Xtrain,Xtest,ytrain,ytest = train_test_split(X,y,test_size=0.3,random_state=42)"
   ]
  },
  {
   "cell_type": "code",
   "execution_count": 8,
   "metadata": {},
   "outputs": [
    {
     "name": "stdout",
     "output_type": "stream",
     "text": [
      "Best: -0.242907 using {'gamma': 1, 'learning_rate': 0.3}\n",
      "-1.087003  with:   {'gamma': 1, 'learning_rate': 0.0001}\n",
      "-0.990435  with:   {'gamma': 1, 'learning_rate': 0.001}\n",
      "-0.480916  with:   {'gamma': 1, 'learning_rate': 0.01}\n",
      "-0.247598  with:   {'gamma': 1, 'learning_rate': 0.1}\n",
      "-0.247093  with:   {'gamma': 1, 'learning_rate': 0.2}\n",
      "-0.242907  with:   {'gamma': 1, 'learning_rate': 0.3}\n",
      "-1.086965  with:   {'gamma': 0.1, 'learning_rate': 0.0001}\n",
      "-0.990087  with:   {'gamma': 0.1, 'learning_rate': 0.001}\n",
      "-0.475026  with:   {'gamma': 0.1, 'learning_rate': 0.01}\n",
      "-0.298848  with:   {'gamma': 0.1, 'learning_rate': 0.1}\n",
      "-0.297804  with:   {'gamma': 0.1, 'learning_rate': 0.2}\n",
      "-0.292862  with:   {'gamma': 0.1, 'learning_rate': 0.3}\n",
      "-1.086965  with:   {'gamma': 0.01, 'learning_rate': 0.0001}\n",
      "-0.989956  with:   {'gamma': 0.01, 'learning_rate': 0.001}\n",
      "-0.476141  with:   {'gamma': 0.01, 'learning_rate': 0.01}\n",
      "-0.303409  with:   {'gamma': 0.01, 'learning_rate': 0.1}\n",
      "-0.326338  with:   {'gamma': 0.01, 'learning_rate': 0.2}\n",
      "-0.337592  with:   {'gamma': 0.01, 'learning_rate': 0.3}\n",
      "-1.086965  with:   {'gamma': 0.001, 'learning_rate': 0.0001}\n",
      "-0.989956  with:   {'gamma': 0.001, 'learning_rate': 0.001}\n",
      "-0.476066  with:   {'gamma': 0.001, 'learning_rate': 0.01}\n",
      "-0.304891  with:   {'gamma': 0.001, 'learning_rate': 0.1}\n",
      "-0.319705  with:   {'gamma': 0.001, 'learning_rate': 0.2}\n",
      "-0.331808  with:   {'gamma': 0.001, 'learning_rate': 0.3}\n"
     ]
    }
   ],
   "source": [
    "model = XGBClassifier()               \n",
    "learning_rate = [0.0001,0.001,0.01,0.1,0.2,0.3] #学习率\n",
    "gamma = [1, 0.1, 0.01, 0.001]\n",
    " \n",
    "param_grid = dict(learning_rate = learning_rate,gamma = gamma)#转化为字典格式，网络搜索要求\n",
    " \n",
    "kflod = StratifiedKFold(n_splits=10, shuffle = True,random_state=7)#将训练/测试数据集划分10个互斥子集，\n",
    " \n",
    "grid_search = GridSearchCV(model,param_grid,scoring = 'neg_log_loss',n_jobs = -1,cv = kflod)\n",
    "#scoring指定损失函数类型，n_jobs指定全部cpu跑，cv指定交叉验证\n",
    "grid_result = grid_search.fit(Xtrain, ytrain) #运行网格搜索\n",
    "print(\"Best: %f using %s\" % (grid_result.best_score_,grid_search.best_params_))\n",
    "#grid_scores_：给出不同参数情况下的评价结果。best_params_：描述了已取得最佳结果的参数的组合\n",
    "#best_score_：成员提供优化过程期间观察到的最好的评分\n",
    "#具有键作为列标题和值作为列的dict，可以导入到DataFrame中。\n",
    "#注意，“params”键用于存储所有参数候选项的参数设置列表。\n",
    "means = grid_result.cv_results_['mean_test_score']\n",
    "params = grid_result.cv_results_['params']\n",
    "for mean,param in zip(means,params):\n",
    "    print(\"%f  with:   %r\" % (mean,param))\n"
   ]
  }
 ],
 "metadata": {
  "kernelspec": {
   "display_name": "Python 3",
   "language": "python",
   "name": "python3"
  },
  "language_info": {
   "codemirror_mode": {
    "name": "ipython",
    "version": 3
   },
   "file_extension": ".py",
   "mimetype": "text/x-python",
   "name": "python",
   "nbconvert_exporter": "python",
   "pygments_lexer": "ipython3",
   "version": "3.11.2"
  }
 },
 "nbformat": 4,
 "nbformat_minor": 2
}
