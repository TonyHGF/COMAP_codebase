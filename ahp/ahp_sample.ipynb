{
 "cells": [
  {
   "cell_type": "code",
   "execution_count": 1,
   "metadata": {},
   "outputs": [
    {
     "name": "stdout",
     "output_type": "stream",
     "text": [
      "准则层：最大特征值5.418198,CR=0.084314,检验通过\n",
      "准则层权重=[0.58293141 0.16396029 0.11819176 0.08112143 0.05379511]\n",
      "\n",
      "准则 1 因素层：最大特征值2.000000,CR=0.000000,检验通过\n",
      "因素层权重=[0.83333333 0.16666667]\n",
      "\n",
      "准则 2 因素层：最大特征值3.005535,CR=0.003075,检验通过\n",
      "因素层权重=[0.59537902 0.27635046 0.12827052]\n",
      "\n",
      "准则 3 因素层：最大特征值4.236855,CR=0.070493,检验通过\n",
      "因素层权重=[0.63674151 0.20373312 0.11691427 0.04261111]\n",
      "\n",
      "准则 4 因素层：最大特征值3.009203,CR=0.005113,检验通过\n",
      "因素层权重=[0.63370792 0.19192062 0.17437146]\n",
      "\n",
      "准则 5 因素层：最大特征值4.131108,CR=0.039020,检验通过\n",
      "因素层权重=[0.58810136 0.21808417 0.11971903 0.07409544]\n",
      "\n"
     ]
    },
    {
     "name": "stderr",
     "output_type": "stream",
     "text": [
      "C:\\Users\\29485\\AppData\\Local\\Temp\\ipykernel_8900\\1598153631.py:2: DeprecationWarning: \n",
      "Pyarrow will become a required dependency of pandas in the next major release of pandas (pandas 3.0),\n",
      "(to allow more performant data types, such as the Arrow string type, and better interoperability with other libraries)\n",
      "but was not found to be installed on your system.\n",
      "If this would cause problems for you,\n",
      "please provide us feedback at https://github.com/pandas-dev/pandas/issues/54466\n",
      "        \n",
      "  import pandas as pd\n"
     ]
    }
   ],
   "source": [
    "import numpy as np\n",
    "import pandas as pd\n",
    "import warnings\n",
    "\n",
    "class AHP:\n",
    "    def __init__(self, criteria, factors):\n",
    "        self.RI = (0, 0, 0.58, 0.9, 1.12, 1.24, 1.32, 1.41, 1.45, 1.49)\n",
    "        self.criteria = criteria               #准则\n",
    "        self.factors = factors                 #因素\n",
    "        self.num_criteria = criteria.shape[0]\n",
    "        self.num_factors = factors[0].shape[0]\n",
    "\n",
    "    def cal_weights(self, input_matrix):\n",
    "        input_matrix = np.array(input_matrix)\n",
    "        n, n1 = input_matrix.shape\n",
    "        assert n == n1, '不是一个方阵'\n",
    "        for i in range(n):\n",
    "            for j in range(n):\n",
    "                if np.abs(input_matrix[i, j] * input_matrix[j, i] - 1) > 1e-7:\n",
    "                    raise ValueError('不是反互对称矩阵')\n",
    "\n",
    "        eigenvalues, eigenvectors = np.linalg.eig(input_matrix)\n",
    "\n",
    "        max_idx = np.argmax(eigenvalues)\n",
    "        max_eigen = eigenvalues[max_idx].real\n",
    "        eigen = eigenvectors[:, max_idx].real\n",
    "        eigen = eigen / eigen.sum()\n",
    "\n",
    "        if n > 9:\n",
    "            CR = None\n",
    "            warnings.warn('无法判断一致性')\n",
    "        else:\n",
    "            CI = (max_eigen - n) / (n - 1)\n",
    "            CR = CI / self.RI[n]\n",
    "        return max_eigen, CR, eigen\n",
    "\n",
    "    def run(self):\n",
    "        max_eigen, CR, criteria_eigen = self.cal_weights(self.criteria)\n",
    "        print('准则层：最大特征值{:<5f},CR={:<5f},检验{}通过'.format(max_eigen, CR, '' if CR < 0.1 else '不'))\n",
    "        print('准则层权重={}\\n'.format(criteria_eigen))\n",
    "\n",
    "        max_eigen_list, CR_list, eigen_list = [], [], []\n",
    "        k = 1\n",
    "        for i in self.factors:\n",
    "            max_eigen, CR, eigen = self.cal_weights(i)\n",
    "            max_eigen_list.append(max_eigen)\n",
    "            CR_list.append(CR)\n",
    "            eigen_list.append(eigen)\n",
    "            print('准则 {} 因素层：最大特征值{:<5f},CR={:<5f},检验{}通过'.format(k,max_eigen, CR, '' if CR < 0.1 else '不'))\n",
    "            print('因素层权重={}\\n'.format(eigen))\n",
    "\n",
    "            k = k + 1\n",
    "            \n",
    "        return criteria_eigen ,eigen_list\n",
    "\n",
    "# 准则重要性矩阵\n",
    "criteria = np.array([[1, 7, 5, 7, 5],\n",
    "                        [1 / 7, 1, 2, 3, 3],\n",
    "                        [1 / 5, 1 / 2, 1,  2,  3],\n",
    "                        [1 / 7, 1 / 3, 1 / 2, 1, 3],\n",
    "                        [1 / 5, 1 / 3, 1 / 3, 1 / 3, 1]])\n",
    "\n",
    "# 对每个准则，方案优劣排序\n",
    "b1 = np.array([[1, 5], [1 / 5, 1]])\n",
    "b2 = np.array([[1, 2, 5], [1 / 2, 1, 2], [1 / 5, 1 / 2, 1]])\n",
    "b3 = np.array([[1, 5, 6, 8], [1 / 5, 1 ,2, 7], [1 / 6, 1 / 2, 1 ,4],[1 / 8, 1 / 7, 1 / 4, 1]])\n",
    "b4 = np.array([[1, 3, 4], [1 / 3, 1, 1], [1 / 4, 1, 1]])\n",
    "b5 = np.array([[1, 4, 5, 5], [1 / 4, 1, 2, 4], [1 /5 , 1 / 2, 1, 2], [1 / 5,1 /4,1 / 2, 1]])\n",
    "\n",
    "b = [b1, b2, b3, b4, b5]\n",
    "a,c = AHP(criteria, b).run()\n",
    "#下一段将用到此函数\n",
    "#fuzzy_eval(a,c)"
   ]
  },
  {
   "cell_type": "markdown",
   "metadata": {},
   "source": [
    "## CR<0.1时，能通过一致性检验"
   ]
  }
 ],
 "metadata": {
  "kernelspec": {
   "display_name": "Python 3",
   "language": "python",
   "name": "python3"
  },
  "language_info": {
   "codemirror_mode": {
    "name": "ipython",
    "version": 3
   },
   "file_extension": ".py",
   "mimetype": "text/x-python",
   "name": "python",
   "nbconvert_exporter": "python",
   "pygments_lexer": "ipython3",
   "version": "3.11.2"
  }
 },
 "nbformat": 4,
 "nbformat_minor": 2
}
